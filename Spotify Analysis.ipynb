{
 "cells": [
  {
   "cell_type": "code",
   "execution_count": 64,
   "id": "a1de15bd",
   "metadata": {},
   "outputs": [],
   "source": [
    "import pandas as pd\n",
    "import numpy as np\n",
    "import plotly.express as px\n",
    "import matplotlib.pyplot as plt\n",
    "import seaborn as sns"
   ]
  },
  {
   "cell_type": "code",
   "execution_count": 4,
   "id": "3fb342be",
   "metadata": {},
   "outputs": [
    {
     "data": {
      "text/plain": [
       "Index(['acousticness', 'artists', 'danceability', 'duration_ms', 'energy',\n",
       "       'explicit', 'id', 'instrumentalness', 'key', 'liveness', 'loudness',\n",
       "       'mode', 'name', 'popularity', 'release_date', 'speechiness', 'tempo',\n",
       "       'valence', 'year'],\n",
       "      dtype='object')"
      ]
     },
     "execution_count": 4,
     "metadata": {},
     "output_type": "execute_result"
    }
   ],
   "source": [
    "df = pd.read_csv('spotify.csv')\n",
    "df.columns"
   ]
  },
  {
   "cell_type": "code",
   "execution_count": 75,
   "id": "8a1873ee",
   "metadata": {},
   "outputs": [
    {
     "data": {
      "text/plain": [
       "array([ 5,  0,  2, 10,  9,  8,  6,  1, 11,  7,  4,  3], dtype=int64)"
      ]
     },
     "execution_count": 75,
     "metadata": {},
     "output_type": "execute_result"
    }
   ],
   "source": [
    "df.key.unique()"
   ]
  },
  {
   "cell_type": "code",
   "execution_count": 96,
   "id": "8dffb622",
   "metadata": {
    "scrolled": true
   },
   "outputs": [
    {
     "data": {
      "text/html": [
       "<div>\n",
       "<style scoped>\n",
       "    .dataframe tbody tr th:only-of-type {\n",
       "        vertical-align: middle;\n",
       "    }\n",
       "\n",
       "    .dataframe tbody tr th {\n",
       "        vertical-align: top;\n",
       "    }\n",
       "\n",
       "    .dataframe thead th {\n",
       "        text-align: right;\n",
       "    }\n",
       "</style>\n",
       "<table border=\"1\" class=\"dataframe\">\n",
       "  <thead>\n",
       "    <tr style=\"text-align: right;\">\n",
       "      <th></th>\n",
       "      <th>acousticness</th>\n",
       "      <th>artists</th>\n",
       "      <th>danceability</th>\n",
       "      <th>duration_ms</th>\n",
       "      <th>energy</th>\n",
       "      <th>explicit</th>\n",
       "      <th>id</th>\n",
       "      <th>instrumentalness</th>\n",
       "      <th>key</th>\n",
       "      <th>liveness</th>\n",
       "      <th>loudness</th>\n",
       "      <th>mode</th>\n",
       "      <th>name</th>\n",
       "      <th>popularity</th>\n",
       "      <th>release_date</th>\n",
       "      <th>speechiness</th>\n",
       "      <th>tempo</th>\n",
       "      <th>valence</th>\n",
       "      <th>year</th>\n",
       "    </tr>\n",
       "  </thead>\n",
       "  <tbody>\n",
       "    <tr>\n",
       "      <th>155151</th>\n",
       "      <td>0.1230</td>\n",
       "      <td>['Christmas Carols', 'Christmas Music and Holi...</td>\n",
       "      <td>0.227</td>\n",
       "      <td>181000</td>\n",
       "      <td>0.06040</td>\n",
       "      <td>0</td>\n",
       "      <td>7DEXnpz1r8LEJKli8cbs9L</td>\n",
       "      <td>0.669000</td>\n",
       "      <td>2</td>\n",
       "      <td>0.1110</td>\n",
       "      <td>-25.075</td>\n",
       "      <td>1</td>\n",
       "      <td>Wishful Christmas</td>\n",
       "      <td>0</td>\n",
       "      <td>2021-01-12</td>\n",
       "      <td>0.0415</td>\n",
       "      <td>77.065</td>\n",
       "      <td>0.1130</td>\n",
       "      <td>2021</td>\n",
       "    </tr>\n",
       "    <tr>\n",
       "      <th>20106</th>\n",
       "      <td>0.1650</td>\n",
       "      <td>['Morgan Wallen']</td>\n",
       "      <td>0.591</td>\n",
       "      <td>224920</td>\n",
       "      <td>0.77800</td>\n",
       "      <td>0</td>\n",
       "      <td>1AGXmKhp5H6d1B2OwZwQdQ</td>\n",
       "      <td>0.000000</td>\n",
       "      <td>0</td>\n",
       "      <td>0.1150</td>\n",
       "      <td>-5.927</td>\n",
       "      <td>1</td>\n",
       "      <td>Silverado For Sale</td>\n",
       "      <td>73</td>\n",
       "      <td>2021-01-08</td>\n",
       "      <td>0.0292</td>\n",
       "      <td>137.956</td>\n",
       "      <td>0.3860</td>\n",
       "      <td>2021</td>\n",
       "    </tr>\n",
       "    <tr>\n",
       "      <th>20108</th>\n",
       "      <td>0.0921</td>\n",
       "      <td>['Morgan Wallen']</td>\n",
       "      <td>0.553</td>\n",
       "      <td>185280</td>\n",
       "      <td>0.88400</td>\n",
       "      <td>0</td>\n",
       "      <td>075qcpR3BnxD5CWUIx1HTr</td>\n",
       "      <td>0.000330</td>\n",
       "      <td>2</td>\n",
       "      <td>0.0463</td>\n",
       "      <td>-5.306</td>\n",
       "      <td>1</td>\n",
       "      <td>This Bar</td>\n",
       "      <td>74</td>\n",
       "      <td>2021-01-08</td>\n",
       "      <td>0.0771</td>\n",
       "      <td>110.074</td>\n",
       "      <td>0.2480</td>\n",
       "      <td>2021</td>\n",
       "    </tr>\n",
       "    <tr>\n",
       "      <th>20109</th>\n",
       "      <td>0.9400</td>\n",
       "      <td>['Johann Strauss I', 'Riccardo Muti', 'Wiener ...</td>\n",
       "      <td>0.642</td>\n",
       "      <td>193307</td>\n",
       "      <td>0.39100</td>\n",
       "      <td>0</td>\n",
       "      <td>316AyasQmOic6W2zM8rYlw</td>\n",
       "      <td>0.943000</td>\n",
       "      <td>9</td>\n",
       "      <td>0.0696</td>\n",
       "      <td>-13.798</td>\n",
       "      <td>1</td>\n",
       "      <td>Radetzky-Marsch, Op. 228</td>\n",
       "      <td>31</td>\n",
       "      <td>2021-01-08</td>\n",
       "      <td>0.0324</td>\n",
       "      <td>101.380</td>\n",
       "      <td>0.7110</td>\n",
       "      <td>2021</td>\n",
       "    </tr>\n",
       "    <tr>\n",
       "      <th>20110</th>\n",
       "      <td>0.4310</td>\n",
       "      <td>['Morgan Wallen']</td>\n",
       "      <td>0.570</td>\n",
       "      <td>210373</td>\n",
       "      <td>0.65700</td>\n",
       "      <td>0</td>\n",
       "      <td>6RhqlFP8FOZLZ4GWqokALY</td>\n",
       "      <td>0.000000</td>\n",
       "      <td>11</td>\n",
       "      <td>0.0777</td>\n",
       "      <td>-4.571</td>\n",
       "      <td>1</td>\n",
       "      <td>Me On Whiskey</td>\n",
       "      <td>73</td>\n",
       "      <td>2021-01-08</td>\n",
       "      <td>0.0262</td>\n",
       "      <td>142.031</td>\n",
       "      <td>0.7210</td>\n",
       "      <td>2021</td>\n",
       "    </tr>\n",
       "    <tr>\n",
       "      <th>20111</th>\n",
       "      <td>0.9740</td>\n",
       "      <td>['Johann Strauss II', 'Riccardo Muti', 'Wiener...</td>\n",
       "      <td>0.219</td>\n",
       "      <td>459053</td>\n",
       "      <td>0.08550</td>\n",
       "      <td>0</td>\n",
       "      <td>5zZbXSRIFe1uWNmEM7f2XI</td>\n",
       "      <td>0.922000</td>\n",
       "      <td>0</td>\n",
       "      <td>0.3550</td>\n",
       "      <td>-19.703</td>\n",
       "      <td>0</td>\n",
       "      <td>Frühlingsstimmen, Walzer, Op. 410</td>\n",
       "      <td>34</td>\n",
       "      <td>2021-01-08</td>\n",
       "      <td>0.0404</td>\n",
       "      <td>171.849</td>\n",
       "      <td>0.1560</td>\n",
       "      <td>2021</td>\n",
       "    </tr>\n",
       "    <tr>\n",
       "      <th>20112</th>\n",
       "      <td>0.5410</td>\n",
       "      <td>['Morgan Wallen']</td>\n",
       "      <td>0.630</td>\n",
       "      <td>162667</td>\n",
       "      <td>0.83600</td>\n",
       "      <td>0</td>\n",
       "      <td>6f40eqAkAtDKodipTfThZc</td>\n",
       "      <td>0.000000</td>\n",
       "      <td>7</td>\n",
       "      <td>0.3120</td>\n",
       "      <td>-4.591</td>\n",
       "      <td>1</td>\n",
       "      <td>Blame It On Me</td>\n",
       "      <td>73</td>\n",
       "      <td>2021-01-08</td>\n",
       "      <td>0.0438</td>\n",
       "      <td>92.980</td>\n",
       "      <td>0.8180</td>\n",
       "      <td>2021</td>\n",
       "    </tr>\n",
       "    <tr>\n",
       "      <th>20113</th>\n",
       "      <td>0.9740</td>\n",
       "      <td>['Johann Strauss II', 'Riccardo Muti', 'Wiener...</td>\n",
       "      <td>0.219</td>\n",
       "      <td>459053</td>\n",
       "      <td>0.08550</td>\n",
       "      <td>0</td>\n",
       "      <td>5zZbXSRIFe1uWNmEM7f2XI</td>\n",
       "      <td>0.922000</td>\n",
       "      <td>0</td>\n",
       "      <td>0.3550</td>\n",
       "      <td>-19.703</td>\n",
       "      <td>0</td>\n",
       "      <td>Frühlingsstimmen, Walzer, Op. 410</td>\n",
       "      <td>34</td>\n",
       "      <td>2021-01-08</td>\n",
       "      <td>0.0404</td>\n",
       "      <td>171.849</td>\n",
       "      <td>0.1560</td>\n",
       "      <td>2021</td>\n",
       "    </tr>\n",
       "    <tr>\n",
       "      <th>20114</th>\n",
       "      <td>0.0651</td>\n",
       "      <td>['Morgan Wallen']</td>\n",
       "      <td>0.590</td>\n",
       "      <td>196080</td>\n",
       "      <td>0.85500</td>\n",
       "      <td>1</td>\n",
       "      <td>2shcL1H6lVSrIaCtshedcl</td>\n",
       "      <td>0.000000</td>\n",
       "      <td>6</td>\n",
       "      <td>0.1100</td>\n",
       "      <td>-4.562</td>\n",
       "      <td>1</td>\n",
       "      <td>Beer Don’t</td>\n",
       "      <td>73</td>\n",
       "      <td>2021-01-08</td>\n",
       "      <td>0.0358</td>\n",
       "      <td>140.008</td>\n",
       "      <td>0.7660</td>\n",
       "      <td>2021</td>\n",
       "    </tr>\n",
       "    <tr>\n",
       "      <th>20115</th>\n",
       "      <td>0.9730</td>\n",
       "      <td>['Johann Strauss II', 'Riccardo Muti', 'Wiener...</td>\n",
       "      <td>0.190</td>\n",
       "      <td>783960</td>\n",
       "      <td>0.06000</td>\n",
       "      <td>0</td>\n",
       "      <td>4tV2GAiMdElyGG9Koz3sQd</td>\n",
       "      <td>0.875000</td>\n",
       "      <td>0</td>\n",
       "      <td>0.1540</td>\n",
       "      <td>-18.481</td>\n",
       "      <td>1</td>\n",
       "      <td>Kaiserwalzer, Op. 437</td>\n",
       "      <td>32</td>\n",
       "      <td>2021-01-08</td>\n",
       "      <td>0.0371</td>\n",
       "      <td>179.934</td>\n",
       "      <td>0.0747</td>\n",
       "      <td>2021</td>\n",
       "    </tr>\n",
       "    <tr>\n",
       "      <th>20116</th>\n",
       "      <td>0.1600</td>\n",
       "      <td>['Morgan Wallen']</td>\n",
       "      <td>0.554</td>\n",
       "      <td>185133</td>\n",
       "      <td>0.75200</td>\n",
       "      <td>0</td>\n",
       "      <td>5D7PM5yNiHKnU85Y055vvb</td>\n",
       "      <td>0.000001</td>\n",
       "      <td>6</td>\n",
       "      <td>0.1220</td>\n",
       "      <td>-4.286</td>\n",
       "      <td>1</td>\n",
       "      <td>Rednecks, Red Letters, Red Dirt</td>\n",
       "      <td>73</td>\n",
       "      <td>2021-01-08</td>\n",
       "      <td>0.0249</td>\n",
       "      <td>140.042</td>\n",
       "      <td>0.6160</td>\n",
       "      <td>2021</td>\n",
       "    </tr>\n",
       "    <tr>\n",
       "      <th>20117</th>\n",
       "      <td>0.9610</td>\n",
       "      <td>['Johann Strauss II', 'Riccardo Muti', 'Wiener...</td>\n",
       "      <td>0.503</td>\n",
       "      <td>251907</td>\n",
       "      <td>0.14700</td>\n",
       "      <td>0</td>\n",
       "      <td>20X3HiWyrMgsLMQYxdeWap</td>\n",
       "      <td>0.473000</td>\n",
       "      <td>11</td>\n",
       "      <td>0.0852</td>\n",
       "      <td>-20.073</td>\n",
       "      <td>1</td>\n",
       "      <td>Im Krapfenwald'l, Polka française, Op. 336</td>\n",
       "      <td>30</td>\n",
       "      <td>2021-01-08</td>\n",
       "      <td>0.0545</td>\n",
       "      <td>89.080</td>\n",
       "      <td>0.4470</td>\n",
       "      <td>2021</td>\n",
       "    </tr>\n",
       "    <tr>\n",
       "      <th>20118</th>\n",
       "      <td>0.5810</td>\n",
       "      <td>['Morgan Wallen']</td>\n",
       "      <td>0.621</td>\n",
       "      <td>239120</td>\n",
       "      <td>0.75300</td>\n",
       "      <td>1</td>\n",
       "      <td>3O9lWje3TSupR4vObAg9Yu</td>\n",
       "      <td>0.006050</td>\n",
       "      <td>7</td>\n",
       "      <td>0.2150</td>\n",
       "      <td>-5.904</td>\n",
       "      <td>0</td>\n",
       "      <td>Livin’ The Dream</td>\n",
       "      <td>72</td>\n",
       "      <td>2021-01-08</td>\n",
       "      <td>0.0271</td>\n",
       "      <td>127.035</td>\n",
       "      <td>0.4380</td>\n",
       "      <td>2021</td>\n",
       "    </tr>\n",
       "    <tr>\n",
       "      <th>20119</th>\n",
       "      <td>0.9010</td>\n",
       "      <td>['Johann Strauss II', 'Riccardo Muti', 'Wiener...</td>\n",
       "      <td>0.391</td>\n",
       "      <td>135413</td>\n",
       "      <td>0.45000</td>\n",
       "      <td>0</td>\n",
       "      <td>3pFONpfEqLegAj6klDDQFM</td>\n",
       "      <td>0.379000</td>\n",
       "      <td>5</td>\n",
       "      <td>0.0793</td>\n",
       "      <td>-14.744</td>\n",
       "      <td>1</td>\n",
       "      <td>Stürmisch in Lieb' und Tanz, Polka schnell, Op...</td>\n",
       "      <td>30</td>\n",
       "      <td>2021-01-08</td>\n",
       "      <td>0.0587</td>\n",
       "      <td>170.232</td>\n",
       "      <td>0.6090</td>\n",
       "      <td>2021</td>\n",
       "    </tr>\n",
       "    <tr>\n",
       "      <th>20120</th>\n",
       "      <td>0.0192</td>\n",
       "      <td>['Morgan Wallen']</td>\n",
       "      <td>0.619</td>\n",
       "      <td>186187</td>\n",
       "      <td>0.92700</td>\n",
       "      <td>1</td>\n",
       "      <td>2Q6NVIPwqtosYBXQ0C00d0</td>\n",
       "      <td>0.000000</td>\n",
       "      <td>10</td>\n",
       "      <td>0.1380</td>\n",
       "      <td>-3.765</td>\n",
       "      <td>1</td>\n",
       "      <td>Country A$$ Shit</td>\n",
       "      <td>72</td>\n",
       "      <td>2021-01-08</td>\n",
       "      <td>0.0346</td>\n",
       "      <td>137.975</td>\n",
       "      <td>0.9280</td>\n",
       "      <td>2021</td>\n",
       "    </tr>\n",
       "    <tr>\n",
       "      <th>20121</th>\n",
       "      <td>0.8730</td>\n",
       "      <td>['Johann Strauss II', 'Riccardo Muti', 'Wiener...</td>\n",
       "      <td>0.386</td>\n",
       "      <td>142320</td>\n",
       "      <td>0.60200</td>\n",
       "      <td>0</td>\n",
       "      <td>1rPAhbzCFmEKI1CwWz8L30</td>\n",
       "      <td>0.919000</td>\n",
       "      <td>11</td>\n",
       "      <td>0.0744</td>\n",
       "      <td>-13.880</td>\n",
       "      <td>1</td>\n",
       "      <td>Furioso-Polka, Op. 260</td>\n",
       "      <td>30</td>\n",
       "      <td>2021-01-08</td>\n",
       "      <td>0.0658</td>\n",
       "      <td>167.765</td>\n",
       "      <td>0.4060</td>\n",
       "      <td>2021</td>\n",
       "    </tr>\n",
       "    <tr>\n",
       "      <th>20122</th>\n",
       "      <td>0.4610</td>\n",
       "      <td>['Morgan Wallen']</td>\n",
       "      <td>0.418</td>\n",
       "      <td>224547</td>\n",
       "      <td>0.62800</td>\n",
       "      <td>0</td>\n",
       "      <td>7MFuhP7p3fPQc8sYyeWL1x</td>\n",
       "      <td>0.000002</td>\n",
       "      <td>5</td>\n",
       "      <td>0.1860</td>\n",
       "      <td>-8.493</td>\n",
       "      <td>1</td>\n",
       "      <td>Quittin’ Time</td>\n",
       "      <td>72</td>\n",
       "      <td>2021-01-08</td>\n",
       "      <td>0.0354</td>\n",
       "      <td>83.926</td>\n",
       "      <td>0.4620</td>\n",
       "      <td>2021</td>\n",
       "    </tr>\n",
       "    <tr>\n",
       "      <th>20123</th>\n",
       "      <td>0.9840</td>\n",
       "      <td>['Smooth Dinner Jazz']</td>\n",
       "      <td>0.699</td>\n",
       "      <td>141642</td>\n",
       "      <td>0.00961</td>\n",
       "      <td>0</td>\n",
       "      <td>6zJsbRq1F4niz81heCv2n6</td>\n",
       "      <td>0.917000</td>\n",
       "      <td>10</td>\n",
       "      <td>0.1150</td>\n",
       "      <td>-21.891</td>\n",
       "      <td>0</td>\n",
       "      <td>Background for New Years Resolutions</td>\n",
       "      <td>10</td>\n",
       "      <td>2021-01-09</td>\n",
       "      <td>0.4530</td>\n",
       "      <td>79.526</td>\n",
       "      <td>0.0403</td>\n",
       "      <td>2021</td>\n",
       "    </tr>\n",
       "    <tr>\n",
       "      <th>20124</th>\n",
       "      <td>0.1690</td>\n",
       "      <td>['Morgan Wallen']</td>\n",
       "      <td>0.600</td>\n",
       "      <td>172627</td>\n",
       "      <td>0.94200</td>\n",
       "      <td>0</td>\n",
       "      <td>2X7c8wSJD0urdk9aWzpu5D</td>\n",
       "      <td>0.000000</td>\n",
       "      <td>2</td>\n",
       "      <td>0.2900</td>\n",
       "      <td>-4.441</td>\n",
       "      <td>1</td>\n",
       "      <td>Somethin’ Country</td>\n",
       "      <td>72</td>\n",
       "      <td>2021-01-08</td>\n",
       "      <td>0.0402</td>\n",
       "      <td>145.981</td>\n",
       "      <td>0.7410</td>\n",
       "      <td>2021</td>\n",
       "    </tr>\n",
       "    <tr>\n",
       "      <th>20107</th>\n",
       "      <td>0.7390</td>\n",
       "      <td>['Johann Strauss I', 'Riccardo Muti', 'Wiener ...</td>\n",
       "      <td>0.559</td>\n",
       "      <td>122920</td>\n",
       "      <td>0.33600</td>\n",
       "      <td>0</td>\n",
       "      <td>2JiapUhhbwvqJzA8WmNV4N</td>\n",
       "      <td>0.248000</td>\n",
       "      <td>11</td>\n",
       "      <td>0.1150</td>\n",
       "      <td>-16.448</td>\n",
       "      <td>1</td>\n",
       "      <td>Venetianer-Galopp, Op. 74</td>\n",
       "      <td>33</td>\n",
       "      <td>2021-01-08</td>\n",
       "      <td>0.0457</td>\n",
       "      <td>79.348</td>\n",
       "      <td>0.6450</td>\n",
       "      <td>2021</td>\n",
       "    </tr>\n",
       "  </tbody>\n",
       "</table>\n",
       "</div>"
      ],
      "text/plain": [
       "        acousticness                                            artists  \\\n",
       "155151        0.1230  ['Christmas Carols', 'Christmas Music and Holi...   \n",
       "20106         0.1650                                  ['Morgan Wallen']   \n",
       "20108         0.0921                                  ['Morgan Wallen']   \n",
       "20109         0.9400  ['Johann Strauss I', 'Riccardo Muti', 'Wiener ...   \n",
       "20110         0.4310                                  ['Morgan Wallen']   \n",
       "20111         0.9740  ['Johann Strauss II', 'Riccardo Muti', 'Wiener...   \n",
       "20112         0.5410                                  ['Morgan Wallen']   \n",
       "20113         0.9740  ['Johann Strauss II', 'Riccardo Muti', 'Wiener...   \n",
       "20114         0.0651                                  ['Morgan Wallen']   \n",
       "20115         0.9730  ['Johann Strauss II', 'Riccardo Muti', 'Wiener...   \n",
       "20116         0.1600                                  ['Morgan Wallen']   \n",
       "20117         0.9610  ['Johann Strauss II', 'Riccardo Muti', 'Wiener...   \n",
       "20118         0.5810                                  ['Morgan Wallen']   \n",
       "20119         0.9010  ['Johann Strauss II', 'Riccardo Muti', 'Wiener...   \n",
       "20120         0.0192                                  ['Morgan Wallen']   \n",
       "20121         0.8730  ['Johann Strauss II', 'Riccardo Muti', 'Wiener...   \n",
       "20122         0.4610                                  ['Morgan Wallen']   \n",
       "20123         0.9840                             ['Smooth Dinner Jazz']   \n",
       "20124         0.1690                                  ['Morgan Wallen']   \n",
       "20107         0.7390  ['Johann Strauss I', 'Riccardo Muti', 'Wiener ...   \n",
       "\n",
       "        danceability  duration_ms   energy  explicit                      id  \\\n",
       "155151         0.227       181000  0.06040         0  7DEXnpz1r8LEJKli8cbs9L   \n",
       "20106          0.591       224920  0.77800         0  1AGXmKhp5H6d1B2OwZwQdQ   \n",
       "20108          0.553       185280  0.88400         0  075qcpR3BnxD5CWUIx1HTr   \n",
       "20109          0.642       193307  0.39100         0  316AyasQmOic6W2zM8rYlw   \n",
       "20110          0.570       210373  0.65700         0  6RhqlFP8FOZLZ4GWqokALY   \n",
       "20111          0.219       459053  0.08550         0  5zZbXSRIFe1uWNmEM7f2XI   \n",
       "20112          0.630       162667  0.83600         0  6f40eqAkAtDKodipTfThZc   \n",
       "20113          0.219       459053  0.08550         0  5zZbXSRIFe1uWNmEM7f2XI   \n",
       "20114          0.590       196080  0.85500         1  2shcL1H6lVSrIaCtshedcl   \n",
       "20115          0.190       783960  0.06000         0  4tV2GAiMdElyGG9Koz3sQd   \n",
       "20116          0.554       185133  0.75200         0  5D7PM5yNiHKnU85Y055vvb   \n",
       "20117          0.503       251907  0.14700         0  20X3HiWyrMgsLMQYxdeWap   \n",
       "20118          0.621       239120  0.75300         1  3O9lWje3TSupR4vObAg9Yu   \n",
       "20119          0.391       135413  0.45000         0  3pFONpfEqLegAj6klDDQFM   \n",
       "20120          0.619       186187  0.92700         1  2Q6NVIPwqtosYBXQ0C00d0   \n",
       "20121          0.386       142320  0.60200         0  1rPAhbzCFmEKI1CwWz8L30   \n",
       "20122          0.418       224547  0.62800         0  7MFuhP7p3fPQc8sYyeWL1x   \n",
       "20123          0.699       141642  0.00961         0  6zJsbRq1F4niz81heCv2n6   \n",
       "20124          0.600       172627  0.94200         0  2X7c8wSJD0urdk9aWzpu5D   \n",
       "20107          0.559       122920  0.33600         0  2JiapUhhbwvqJzA8WmNV4N   \n",
       "\n",
       "        instrumentalness  key  liveness  loudness  mode  \\\n",
       "155151          0.669000    2    0.1110   -25.075     1   \n",
       "20106           0.000000    0    0.1150    -5.927     1   \n",
       "20108           0.000330    2    0.0463    -5.306     1   \n",
       "20109           0.943000    9    0.0696   -13.798     1   \n",
       "20110           0.000000   11    0.0777    -4.571     1   \n",
       "20111           0.922000    0    0.3550   -19.703     0   \n",
       "20112           0.000000    7    0.3120    -4.591     1   \n",
       "20113           0.922000    0    0.3550   -19.703     0   \n",
       "20114           0.000000    6    0.1100    -4.562     1   \n",
       "20115           0.875000    0    0.1540   -18.481     1   \n",
       "20116           0.000001    6    0.1220    -4.286     1   \n",
       "20117           0.473000   11    0.0852   -20.073     1   \n",
       "20118           0.006050    7    0.2150    -5.904     0   \n",
       "20119           0.379000    5    0.0793   -14.744     1   \n",
       "20120           0.000000   10    0.1380    -3.765     1   \n",
       "20121           0.919000   11    0.0744   -13.880     1   \n",
       "20122           0.000002    5    0.1860    -8.493     1   \n",
       "20123           0.917000   10    0.1150   -21.891     0   \n",
       "20124           0.000000    2    0.2900    -4.441     1   \n",
       "20107           0.248000   11    0.1150   -16.448     1   \n",
       "\n",
       "                                                     name  popularity  \\\n",
       "155151                                  Wishful Christmas           0   \n",
       "20106                                  Silverado For Sale          73   \n",
       "20108                                            This Bar          74   \n",
       "20109                            Radetzky-Marsch, Op. 228          31   \n",
       "20110                                       Me On Whiskey          73   \n",
       "20111                   Frühlingsstimmen, Walzer, Op. 410          34   \n",
       "20112                                      Blame It On Me          73   \n",
       "20113                   Frühlingsstimmen, Walzer, Op. 410          34   \n",
       "20114                                          Beer Don’t          73   \n",
       "20115                               Kaiserwalzer, Op. 437          32   \n",
       "20116                     Rednecks, Red Letters, Red Dirt          73   \n",
       "20117          Im Krapfenwald'l, Polka française, Op. 336          30   \n",
       "20118                                    Livin’ The Dream          72   \n",
       "20119   Stürmisch in Lieb' und Tanz, Polka schnell, Op...          30   \n",
       "20120                                    Country A$$ Shit          72   \n",
       "20121                              Furioso-Polka, Op. 260          30   \n",
       "20122                                       Quittin’ Time          72   \n",
       "20123                Background for New Years Resolutions          10   \n",
       "20124                                   Somethin’ Country          72   \n",
       "20107                           Venetianer-Galopp, Op. 74          33   \n",
       "\n",
       "       release_date  speechiness    tempo  valence  year  \n",
       "155151   2021-01-12       0.0415   77.065   0.1130  2021  \n",
       "20106    2021-01-08       0.0292  137.956   0.3860  2021  \n",
       "20108    2021-01-08       0.0771  110.074   0.2480  2021  \n",
       "20109    2021-01-08       0.0324  101.380   0.7110  2021  \n",
       "20110    2021-01-08       0.0262  142.031   0.7210  2021  \n",
       "20111    2021-01-08       0.0404  171.849   0.1560  2021  \n",
       "20112    2021-01-08       0.0438   92.980   0.8180  2021  \n",
       "20113    2021-01-08       0.0404  171.849   0.1560  2021  \n",
       "20114    2021-01-08       0.0358  140.008   0.7660  2021  \n",
       "20115    2021-01-08       0.0371  179.934   0.0747  2021  \n",
       "20116    2021-01-08       0.0249  140.042   0.6160  2021  \n",
       "20117    2021-01-08       0.0545   89.080   0.4470  2021  \n",
       "20118    2021-01-08       0.0271  127.035   0.4380  2021  \n",
       "20119    2021-01-08       0.0587  170.232   0.6090  2021  \n",
       "20120    2021-01-08       0.0346  137.975   0.9280  2021  \n",
       "20121    2021-01-08       0.0658  167.765   0.4060  2021  \n",
       "20122    2021-01-08       0.0354   83.926   0.4620  2021  \n",
       "20123    2021-01-09       0.4530   79.526   0.0403  2021  \n",
       "20124    2021-01-08       0.0402  145.981   0.7410  2021  \n",
       "20107    2021-01-08       0.0457   79.348   0.6450  2021  "
      ]
     },
     "execution_count": 96,
     "metadata": {},
     "output_type": "execute_result"
    }
   ],
   "source": [
    "df.sort_values('year',ascending=False).head(20)"
   ]
  },
  {
   "cell_type": "code",
   "execution_count": 113,
   "id": "b9bc43f8",
   "metadata": {
    "scrolled": false
   },
   "outputs": [
    {
     "data": {
      "text/plain": [
       "<AxesSubplot: xlabel='acousticness', ylabel='liveness'>"
      ]
     },
     "execution_count": 113,
     "metadata": {},
     "output_type": "execute_result"
    },
    {
     "data": {
      "image/png": "[encoded data removed]",
      "text/plain": [
       "<Figure size 432x288 with 1 Axes>"
      ]
     },
     "metadata": {
      "needs_background": "light"
     },
     "output_type": "display_data"
    }
   ],
   "source": [
    "sns.boxplot(x=df['acousticness'], y=df['liveness'])"
   ]
  },
  {
   "cell_type": "code",
   "execution_count": 7,
   "id": "e44cc28c",
   "metadata": {},
   "outputs": [
    {
     "name": "stdout",
     "output_type": "stream",
     "text": [
      "<class 'pandas.core.frame.DataFrame'>\n",
      "RangeIndex: 174389 entries, 0 to 174388\n",
      "Data columns (total 19 columns):\n",
      " #   Column            Non-Null Count   Dtype  \n",
      "---  ------            --------------   -----  \n",
      " 0   acousticness      174389 non-null  float64\n",
      " 1   artists           174389 non-null  object \n",
      " 2   danceability      174389 non-null  float64\n",
      " 3   duration_ms       174389 non-null  int64  \n",
      " 4   energy            174389 non-null  float64\n",
      " 5   explicit          174389 non-null  int64  \n",
      " 6   id                174389 non-null  object \n",
      " 7   instrumentalness  174389 non-null  float64\n",
      " 8   key               174389 non-null  int64  \n",
      " 9   liveness          174389 non-null  float64\n",
      " 10  loudness          174389 non-null  float64\n",
      " 11  mode              174389 non-null  int64  \n",
      " 12  name              174389 non-null  object \n",
      " 13  popularity        174389 non-null  int64  \n",
      " 14  release_date      174389 non-null  object \n",
      " 15  speechiness       174389 non-null  float64\n",
      " 16  tempo             174389 non-null  float64\n",
      " 17  valence           174389 non-null  float64\n",
      " 18  year              174389 non-null  int64  \n",
      "dtypes: float64(9), int64(6), object(4)\n",
      "memory usage: 25.3+ MB\n"
     ]
    }
   ],
   "source": [
    "df.info()"
   ]
  },
  {
   "cell_type": "code",
   "execution_count": 9,
   "id": "ad9c250a",
   "metadata": {},
   "outputs": [
    {
     "data": {
      "text/plain": [
       "acousticness        0\n",
       "artists             0\n",
       "danceability        0\n",
       "duration_ms         0\n",
       "energy              0\n",
       "explicit            0\n",
       "id                  0\n",
       "instrumentalness    0\n",
       "key                 0\n",
       "liveness            0\n",
       "loudness            0\n",
       "mode                0\n",
       "name                0\n",
       "popularity          0\n",
       "release_date        0\n",
       "speechiness         0\n",
       "tempo               0\n",
       "valence             0\n",
       "year                0\n",
       "dtype: int64"
      ]
     },
     "execution_count": 9,
     "metadata": {},
     "output_type": "execute_result"
    }
   ],
   "source": [
    "df.isnull().sum()"
   ]
  },
  {
   "cell_type": "code",
   "execution_count": 40,
   "id": "e29480c1",
   "metadata": {},
   "outputs": [],
   "source": [
    "x = df.artists.apply(lambda x: \"KK\" in x)"
   ]
  },
  {
   "cell_type": "code",
   "execution_count": 55,
   "id": "87e43599",
   "metadata": {},
   "outputs": [],
   "source": [
    "w = lambda x: eval(x)"
   ]
  },
  {
   "cell_type": "code",
   "execution_count": 63,
   "id": "5b0c04c1",
   "metadata": {},
   "outputs": [
    {
     "data": {
      "text/plain": [
       "list"
      ]
     },
     "execution_count": 63,
     "metadata": {},
     "output_type": "execute_result"
    }
   ],
   "source": [
    "type(df.artists.apply(w)[0])"
   ]
  },
  {
   "cell_type": "markdown",
   "id": "9a2d102e",
   "metadata": {},
   "source": [
    "# Univariate Analysis"
   ]
  },
  {
   "cell_type": "markdown",
   "id": "5768d751",
   "metadata": {},
   "source": [
    "\n",
    "# Categorical data => count plot and pie chart"
   ]
  },
  {
   "cell_type": "markdown",
   "id": "f755536d",
   "metadata": {},
   "source": [
    "# numerical data => hist,dist,box"
   ]
  },
  {
   "cell_type": "code",
   "execution_count": 116,
   "id": "1cb365a5",
   "metadata": {},
   "outputs": [],
   "source": [
    "tips = sns.load_dataset('tips')"
   ]
  },
  {
   "cell_type": "code",
   "execution_count": 117,
   "id": "a7589854",
   "metadata": {},
   "outputs": [
    {
     "data": {
      "text/html": [
       "<div>\n",
       "<style scoped>\n",
       "    .dataframe tbody tr th:only-of-type {\n",
       "        vertical-align: middle;\n",
       "    }\n",
       "\n",
       "    .dataframe tbody tr th {\n",
       "        vertical-align: top;\n",
       "    }\n",
       "\n",
       "    .dataframe thead th {\n",
       "        text-align: right;\n",
       "    }\n",
       "</style>\n",
       "<table border=\"1\" class=\"dataframe\">\n",
       "  <thead>\n",
       "    <tr style=\"text-align: right;\">\n",
       "      <th></th>\n",
       "      <th>total_bill</th>\n",
       "      <th>tip</th>\n",
       "      <th>sex</th>\n",
       "      <th>smoker</th>\n",
       "      <th>day</th>\n",
       "      <th>time</th>\n",
       "      <th>size</th>\n",
       "    </tr>\n",
       "  </thead>\n",
       "  <tbody>\n",
       "    <tr>\n",
       "      <th>0</th>\n",
       "      <td>16.99</td>\n",
       "      <td>1.01</td>\n",
       "      <td>Female</td>\n",
       "      <td>No</td>\n",
       "      <td>Sun</td>\n",
       "      <td>Dinner</td>\n",
       "      <td>2</td>\n",
       "    </tr>\n",
       "    <tr>\n",
       "      <th>1</th>\n",
       "      <td>10.34</td>\n",
       "      <td>1.66</td>\n",
       "      <td>Male</td>\n",
       "      <td>No</td>\n",
       "      <td>Sun</td>\n",
       "      <td>Dinner</td>\n",
       "      <td>3</td>\n",
       "    </tr>\n",
       "    <tr>\n",
       "      <th>2</th>\n",
       "      <td>21.01</td>\n",
       "      <td>3.50</td>\n",
       "      <td>Male</td>\n",
       "      <td>No</td>\n",
       "      <td>Sun</td>\n",
       "      <td>Dinner</td>\n",
       "      <td>3</td>\n",
       "    </tr>\n",
       "    <tr>\n",
       "      <th>3</th>\n",
       "      <td>23.68</td>\n",
       "      <td>3.31</td>\n",
       "      <td>Male</td>\n",
       "      <td>No</td>\n",
       "      <td>Sun</td>\n",
       "      <td>Dinner</td>\n",
       "      <td>2</td>\n",
       "    </tr>\n",
       "    <tr>\n",
       "      <th>4</th>\n",
       "      <td>24.59</td>\n",
       "      <td>3.61</td>\n",
       "      <td>Female</td>\n",
       "      <td>No</td>\n",
       "      <td>Sun</td>\n",
       "      <td>Dinner</td>\n",
       "      <td>4</td>\n",
       "    </tr>\n",
       "    <tr>\n",
       "      <th>...</th>\n",
       "      <td>...</td>\n",
       "      <td>...</td>\n",
       "      <td>...</td>\n",
       "      <td>...</td>\n",
       "      <td>...</td>\n",
       "      <td>...</td>\n",
       "      <td>...</td>\n",
       "    </tr>\n",
       "    <tr>\n",
       "      <th>239</th>\n",
       "      <td>29.03</td>\n",
       "      <td>5.92</td>\n",
       "      <td>Male</td>\n",
       "      <td>No</td>\n",
       "      <td>Sat</td>\n",
       "      <td>Dinner</td>\n",
       "      <td>3</td>\n",
       "    </tr>\n",
       "    <tr>\n",
       "      <th>240</th>\n",
       "      <td>27.18</td>\n",
       "      <td>2.00</td>\n",
       "      <td>Female</td>\n",
       "      <td>Yes</td>\n",
       "      <td>Sat</td>\n",
       "      <td>Dinner</td>\n",
       "      <td>2</td>\n",
       "    </tr>\n",
       "    <tr>\n",
       "      <th>241</th>\n",
       "      <td>22.67</td>\n",
       "      <td>2.00</td>\n",
       "      <td>Male</td>\n",
       "      <td>Yes</td>\n",
       "      <td>Sat</td>\n",
       "      <td>Dinner</td>\n",
       "      <td>2</td>\n",
       "    </tr>\n",
       "    <tr>\n",
       "      <th>242</th>\n",
       "      <td>17.82</td>\n",
       "      <td>1.75</td>\n",
       "      <td>Male</td>\n",
       "      <td>No</td>\n",
       "      <td>Sat</td>\n",
       "      <td>Dinner</td>\n",
       "      <td>2</td>\n",
       "    </tr>\n",
       "    <tr>\n",
       "      <th>243</th>\n",
       "      <td>18.78</td>\n",
       "      <td>3.00</td>\n",
       "      <td>Female</td>\n",
       "      <td>No</td>\n",
       "      <td>Thur</td>\n",
       "      <td>Dinner</td>\n",
       "      <td>2</td>\n",
       "    </tr>\n",
       "  </tbody>\n",
       "</table>\n",
       "<p>244 rows × 7 columns</p>\n",
       "</div>"
      ],
      "text/plain": [
       "     total_bill   tip     sex smoker   day    time  size\n",
       "0         16.99  1.01  Female     No   Sun  Dinner     2\n",
       "1         10.34  1.66    Male     No   Sun  Dinner     3\n",
       "2         21.01  3.50    Male     No   Sun  Dinner     3\n",
       "3         23.68  3.31    Male     No   Sun  Dinner     2\n",
       "4         24.59  3.61  Female     No   Sun  Dinner     4\n",
       "..          ...   ...     ...    ...   ...     ...   ...\n",
       "239       29.03  5.92    Male     No   Sat  Dinner     3\n",
       "240       27.18  2.00  Female    Yes   Sat  Dinner     2\n",
       "241       22.67  2.00    Male    Yes   Sat  Dinner     2\n",
       "242       17.82  1.75    Male     No   Sat  Dinner     2\n",
       "243       18.78  3.00  Female     No  Thur  Dinner     2\n",
       "\n",
       "[244 rows x 7 columns]"
      ]
     },
     "execution_count": 117,
     "metadata": {},
     "output_type": "execute_result"
    }
   ],
   "source": [
    "tips"
   ]
  },
  {
   "cell_type": "code",
   "execution_count": 124,
   "id": "3a9aed9d",
   "metadata": {},
   "outputs": [
    {
     "data": {
      "text/plain": [
       "<AxesSubplot: xlabel='total_bill', ylabel='tip'>"
      ]
     },
     "execution_count": 124,
     "metadata": {},
     "output_type": "execute_result"
    },
    {
     "data": {
      "image/png": "[encoded data removed]",
      "text/plain": [
       "<Figure size 432x288 with 1 Axes>"
      ]
     },
     "metadata": {
      "needs_background": "light"
     },
     "output_type": "display_data"
    }
   ],
   "source": [
    "\n",
    "sns.scatterplot(x=tips['total_bill'],y=tips['tip'], hue=tips.sex, style=tips.smoker, size=df.size)"
   ]
  },
  {
   "cell_type": "code",
   "execution_count": 1,
   "id": "4afe487b",
   "metadata": {},
   "outputs": [
    {
     "ename": "NameError",
     "evalue": "name 'sns' is not defined",
     "output_type": "error",
     "traceback": [
      "\u001b[1;31m---------------------------------------------------------------------------\u001b[0m",
      "\u001b[1;31mNameError\u001b[0m                                 Traceback (most recent call last)",
      "Input \u001b[1;32mIn [1]\u001b[0m, in \u001b[0;36m<cell line: 1>\u001b[1;34m()\u001b[0m\n\u001b[1;32m----> 1\u001b[0m \u001b[43msns\u001b[49m\u001b[38;5;241m.\u001b[39mbarplot(x\u001b[38;5;241m=\u001b[39mdf\u001b[38;5;241m.\u001b[39mkey,y\u001b[38;5;241m=\u001b[39mdf[\u001b[38;5;124m'\u001b[39m\u001b[38;5;124mmode\u001b[39m\u001b[38;5;124m'\u001b[39m])\n",
      "\u001b[1;31mNameError\u001b[0m: name 'sns' is not defined"
     ]
    }
   ],
   "source": [
    "sns.barplot(x=df.key,y=df['mode'])"
   ]
  },
  {
   "cell_type": "code",
   "execution_count": 132,
   "id": "e77cf155",
   "metadata": {},
   "outputs": [
    {
     "name": "stderr",
     "output_type": "stream",
     "text": [
      "C:\\Users\\maria\\AppData\\Local\\Temp\\ipykernel_12208\\1741393773.py:1: UserWarning: \n",
      "\n",
      "`distplot` is a deprecated function and will be removed in seaborn v0.14.0.\n",
      "\n",
      "Please adapt your code to use either `displot` (a figure-level function with\n",
      "similar flexibility) or `histplot` (an axes-level function for histograms).\n",
      "\n",
      "For a guide to updating your code to use the new functions, please see\n",
      "https://gist.github.com/mwaskom/de44147ed2974457ad6372750bbe5751\n",
      "\n",
      "  sns.distplot(df['acousticness'])\n"
     ]
    },
    {
     "data": {
      "text/plain": [
       "<AxesSubplot: xlabel='acousticness', ylabel='Density'>"
      ]
     },
     "execution_count": 132,
     "metadata": {},
     "output_type": "execute_result"
    },
    {
     "data": {
      "image/png": "[encoded data removed]",
      "text/plain": [
       "<Figure size 432x288 with 1 Axes>"
      ]
     },
     "metadata": {
      "needs_background": "light"
     },
     "output_type": "display_data"
    }
   ],
   "source": [
    "sns.distplot(df['acousticness'])"
   ]
  },
  {
   "cell_type": "code",
   "execution_count": 135,
   "id": "9028468e",
   "metadata": {},
   "outputs": [
    {
     "data": {
      "text/plain": [
       "<AxesSubplot: xlabel='energy', ylabel='Count'>"
      ]
     },
     "execution_count": 135,
     "metadata": {},
     "output_type": "execute_result"
    },
    {
     "data": {
      "image/png": "[encoded data removed]",
      "text/plain": [
       "<Figure size 432x288 with 1 Axes>"
      ]
     },
     "metadata": {
      "needs_background": "light"
     },
     "output_type": "display_data"
    }
   ],
   "source": [
    "sns.histplot(df['energy'])"
   ]
  },
  {
   "cell_type": "code",
   "execution_count": 140,
   "id": "bd07725e",
   "metadata": {},
   "outputs": [
    {
     "data": {
      "text/plain": [
       "<AxesSubplot: xlabel='mode', ylabel='count'>"
      ]
     },
     "execution_count": 140,
     "metadata": {},
     "output_type": "execute_result"
    },
    {
     "data": {
      "image/png": "[encoded data removed]",
      "text/plain": [
       "<Figure size 432x288 with 1 Axes>"
      ]
     },
     "metadata": {
      "needs_background": "light"
     },
     "output_type": "display_data"
    }
   ],
   "source": [
    "sns.countplot(x=df['mode'])"
   ]
  },
  {
   "cell_type": "code",
   "execution_count": 164,
   "id": "53cf6191",
   "metadata": {},
   "outputs": [
    {
     "data": {
      "text/plain": [
       "<AxesSubplot: xlabel='energy'>"
      ]
     },
     "execution_count": 164,
     "metadata": {},
     "output_type": "execute_result"
    },
    {
     "data": {
      "image/png": "[encoded data removed]",
      "text/plain": [
       "<Figure size 432x288 with 1 Axes>"
      ]
     },
     "metadata": {
      "needs_background": "light"
     },
     "output_type": "display_data"
    }
   ],
   "source": [
    "sns.boxplot(x=df['energy'])\n",
    "# sns.boxplot(x=df.acousticness)\n"
   ]
  },
  {
   "cell_type": "code",
   "execution_count": 168,
   "id": "071bd57d",
   "metadata": {},
   "outputs": [
    {
     "data": {
      "text/plain": [
       "count    174389.000000\n",
       "mean          0.482721\n",
       "std           0.272685\n",
       "min           0.000000\n",
       "25%           0.249000\n",
       "50%           0.465000\n",
       "75%           0.711000\n",
       "max           1.000000\n",
       "Name: energy, dtype: float64"
      ]
     },
     "execution_count": 168,
     "metadata": {},
     "output_type": "execute_result"
    }
   ],
   "source": [
    "df.energy.describe()"
   ]
  },
  {
   "cell_type": "code",
   "execution_count": 165,
   "id": "4bc724df",
   "metadata": {},
   "outputs": [
    {
     "data": {
      "text/plain": [
       "<AxesSubplot: xlabel='acousticness'>"
      ]
     },
     "execution_count": 165,
     "metadata": {},
     "output_type": "execute_result"
    },
    {
     "data": {
      "image/png": "[encoded data removed]",
      "text/plain": [
       "<Figure size 432x288 with 1 Axes>"
      ]
     },
     "metadata": {
      "needs_background": "light"
     },
     "output_type": "display_data"
    }
   ],
   "source": [
    "sns.boxplot(x=df.acousticness)"
   ]
  },
  {
   "cell_type": "code",
   "execution_count": 167,
   "id": "a303e764",
   "metadata": {},
   "outputs": [
    {
     "data": {
      "text/plain": [
       "count    174389.000000\n",
       "mean          0.499228\n",
       "std           0.379936\n",
       "min           0.000000\n",
       "25%           0.087700\n",
       "50%           0.517000\n",
       "75%           0.895000\n",
       "max           0.996000\n",
       "Name: acousticness, dtype: float64"
      ]
     },
     "execution_count": 167,
     "metadata": {},
     "output_type": "execute_result"
    }
   ],
   "source": [
    "df.acousticness.describe()"
   ]
  },
  {
   "cell_type": "code",
   "execution_count": 170,
   "id": "b4cfadb1",
   "metadata": {},
   "outputs": [
    {
     "data": {
      "text/plain": [
       "count    174389.000000\n",
       "mean        -11.750865\n",
       "std           5.691591\n",
       "min         -60.000000\n",
       "25%         -14.908000\n",
       "50%         -10.836000\n",
       "75%          -7.499000\n",
       "max           3.855000\n",
       "Name: loudness, dtype: float64"
      ]
     },
     "execution_count": 170,
     "metadata": {},
     "output_type": "execute_result"
    }
   ],
   "source": [
    "df.loudness.describe()"
   ]
  },
  {
   "cell_type": "code",
   "execution_count": 184,
   "id": "8bfabda4",
   "metadata": {},
   "outputs": [
    {
     "data": {
      "text/plain": [
       "count    174389.000000\n",
       "mean          0.211123\n",
       "std           0.180493\n",
       "min           0.000000\n",
       "25%           0.099200\n",
       "50%           0.138000\n",
       "75%           0.270000\n",
       "max           1.000000\n",
       "Name: liveness, dtype: float64"
      ]
     },
     "execution_count": 184,
     "metadata": {},
     "output_type": "execute_result"
    }
   ],
   "source": [
    "df.liveness.describe()"
   ]
  },
  {
   "cell_type": "code",
   "execution_count": 201,
   "id": "21611e13",
   "metadata": {},
   "outputs": [
    {
     "name": "stderr",
     "output_type": "stream",
     "text": [
      "C:\\Users\\maria\\AppData\\Local\\Temp\\ipykernel_12208\\3301805743.py:2: UserWarning: \n",
      "\n",
      "`distplot` is a deprecated function and will be removed in seaborn v0.14.0.\n",
      "\n",
      "Please adapt your code to use either `displot` (a figure-level function with\n",
      "similar flexibility) or `kdeplot` (an axes-level function for kernel density plots).\n",
      "\n",
      "For a guide to updating your code to use the new functions, please see\n",
      "https://gist.github.com/mwaskom/de44147ed2974457ad6372750bbe5751\n",
      "\n",
      "  sns.distplot(x=df['liveness'], hist=False)\n",
      "C:\\Users\\maria\\AppData\\Local\\Temp\\ipykernel_12208\\3301805743.py:3: UserWarning: \n",
      "\n",
      "`distplot` is a deprecated function and will be removed in seaborn v0.14.0.\n",
      "\n",
      "Please adapt your code to use either `displot` (a figure-level function with\n",
      "similar flexibility) or `kdeplot` (an axes-level function for kernel density plots).\n",
      "\n",
      "For a guide to updating your code to use the new functions, please see\n",
      "https://gist.github.com/mwaskom/de44147ed2974457ad6372750bbe5751\n",
      "\n",
      "  sns.distplot(x=df['energy'], hist=False)\n"
     ]
    },
    {
     "data": {
      "text/plain": [
       "<AxesSubplot: ylabel='Density'>"
      ]
     },
     "execution_count": 201,
     "metadata": {},
     "output_type": "execute_result"
    },
    {
     "data": {
      "image/png": "[encoded data removed]",
      "text/plain": [
       "<Figure size 432x288 with 1 Axes>"
      ]
     },
     "metadata": {},
     "output_type": "display_data"
    }
   ],
   "source": [
    "\n",
    "# sns.distplot(x=df['loudness'], hist=False)\n",
    "sns.distplot(x=df['liveness'], hist=False)\n",
    "sns.distplot(x=df['energy'], hist=False)"
   ]
  },
  {
   "cell_type": "code",
   "execution_count": 173,
   "id": "639a7da5",
   "metadata": {},
   "outputs": [
    {
     "data": {
      "text/plain": [
       "4"
      ]
     },
     "execution_count": 173,
     "metadata": {},
     "output_type": "execute_result"
    }
   ],
   "source": [
    "2+2"
   ]
  },
  {
   "cell_type": "code",
   "execution_count": 199,
   "id": "95dab049",
   "metadata": {},
   "outputs": [
    {
     "data": {
      "text/plain": [
       "<AxesSubplot: xlabel='liveness'>"
      ]
     },
     "execution_count": 199,
     "metadata": {},
     "output_type": "execute_result"
    },
    {
     "data": {
      "image/png": "[encoded data removed]",
      "text/plain": [
       "<Figure size 432x288 with 1 Axes>"
      ]
     },
     "metadata": {},
     "output_type": "display_data"
    }
   ],
   "source": [
    "sns.set()\n",
    "sns.boxplot(x=df.liveness, hue=df.energy)"
   ]
  },
  {
   "cell_type": "code",
   "execution_count": 215,
   "id": "4954e00b",
   "metadata": {},
   "outputs": [
    {
     "data": {
      "text/plain": [
       "array([ 0,  1,  2,  3,  4,  5,  6,  7,  8,  9, 10, 11], dtype=int64)"
      ]
     },
     "execution_count": 215,
     "metadata": {},
     "output_type": "execute_result"
    }
   ],
   "source": [
    "np.sort(df.key.unique())"
   ]
  },
  {
   "cell_type": "code",
   "execution_count": 219,
   "id": "8f1cdd0a",
   "metadata": {},
   "outputs": [
    {
     "data": {
      "text/plain": [
       "<AxesSubplot: xlabel='key', ylabel='count'>"
      ]
     },
     "execution_count": 219,
     "metadata": {},
     "output_type": "execute_result"
    },
    {
     "data": {
      "image/png": "[encoded data removed]",
      "text/plain": [
       "<Figure size 432x288 with 1 Axes>"
      ]
     },
     "metadata": {},
     "output_type": "display_data"
    }
   ],
   "source": [
    "sns.set()\n",
    "sns.countplot(x=df.key)"
   ]
  },
  {
   "cell_type": "code",
   "execution_count": 226,
   "id": "9cd972f5",
   "metadata": {},
   "outputs": [
    {
     "name": "stderr",
     "output_type": "stream",
     "text": [
      "C:\\Users\\maria\\AppData\\Local\\Temp\\ipykernel_12208\\1123348454.py:1: UserWarning: \n",
      "\n",
      "`distplot` is a deprecated function and will be removed in seaborn v0.14.0.\n",
      "\n",
      "Please adapt your code to use either `displot` (a figure-level function with\n",
      "similar flexibility) or `histplot` (an axes-level function for histograms).\n",
      "\n",
      "For a guide to updating your code to use the new functions, please see\n",
      "https://gist.github.com/mwaskom/de44147ed2974457ad6372750bbe5751\n",
      "\n",
      "  sns.distplot(x=df.key)\n"
     ]
    },
    {
     "data": {
      "text/plain": [
       "<AxesSubplot: ylabel='Density'>"
      ]
     },
     "execution_count": 226,
     "metadata": {},
     "output_type": "execute_result"
    },
    {
     "data": {
      "image/png": "[encoded data removed]",
      "text/plain": [
       "<Figure size 432x288 with 1 Axes>"
      ]
     },
     "metadata": {},
     "output_type": "display_data"
    }
   ],
   "source": [
    "\n",
    "\n",
    "sns.distplot(x=df.key)"
   ]
  },
  {
   "cell_type": "code",
   "execution_count": null,
   "id": "c020f4aa",
   "metadata": {},
   "outputs": [],
   "source": []
  },
  {
   "cell_type": "code",
   "execution_count": null,
   "id": "be49d0f9",
   "metadata": {},
   "outputs": [],
   "source": []
  }
 ],
 "metadata": {
  "kernelspec": {
   "display_name": "Python 3 (ipykernel)",
   "language": "python",
   "name": "python3"
  },
  "language_info": {
   "codemirror_mode": {
    "name": "ipython",
    "version": 3
   },
   "file_extension": ".py",
   "mimetype": "text/x-python",
   "name": "python",
   "nbconvert_exporter": "python",
   "pygments_lexer": "ipython3",
   "version": "3.9.0"
  }
 },
 "nbformat": 4,
 "nbformat_minor": 5
}
